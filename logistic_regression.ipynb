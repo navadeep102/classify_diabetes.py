{
  "nbformat": 4,
  "nbformat_minor": 0,
  "metadata": {
    "colab": {
      "provenance": [],
      "authorship_tag": "ABX9TyOFmO+jJESn1Tc6jZkU+FJi",
      "include_colab_link": true
    },
    "kernelspec": {
      "name": "python3",
      "display_name": "Python 3"
    },
    "language_info": {
      "name": "python"
    }
  },
  "cells": [
    {
      "cell_type": "markdown",
      "metadata": {
        "id": "view-in-github",
        "colab_type": "text"
      },
      "source": [
        "<a href=\"https://colab.research.google.com/github/navadeep102/classify_diabetes.py/blob/main/logistic_regression.ipynb\" target=\"_parent\"><img src=\"https://colab.research.google.com/assets/colab-badge.svg\" alt=\"Open In Colab\"/></a>"
      ]
    },
    {
      "cell_type": "markdown",
      "source": [
        "logistic regression **classification technique**"
      ],
      "metadata": {
        "id": "5DGchN2Ir2MQ"
      }
    },
    {
      "cell_type": "code",
      "source": [
        "#Logistic Regression\n",
        "import pandas as pd\n",
        "from sklearn.linear_model import LogisticRegression\n",
        "from sklearn.model_selection import train_test_split\n",
        "from sklearn.metrics import accuracy_score\n",
        "# x = [age, bmi, blood_pressure, glucose_level, family_history (1=Yes, 0=No)]\n",
        "x = [\n",
        "    [42, 27.1, 135, 160, 1],\n",
        "    [36, 25.3, 128, 115, 0],\n",
        "    [55, 31.8, 145, 195, 1],\n",
        "    [30, 23.5, 118, 105, 0],\n",
        "    [47, 29.6, 138, 175, 1],\n",
        "    [39, 26.2, 130, 140, 0],\n",
        "    [62, 34.5, 150, 220, 1],\n",
        "    [28, 22.9, 120, 100, 0],\n",
        "    [50, 30.5, 140, 185, 1],\n",
        "    [33, 24.7, 125, 110, 0]\n",
        "]\n",
        "\n",
        "# y = diabetes (1=Yes, 0=No)\n",
        "y = [1, 0, 1, 0, 1, 0, 1, 0, 1, 0]\n",
        "x_train,x_test,y_train,y_test = train_test_split(x,y,test_size=0.2)\n",
        "model = LogisticRegression()\n",
        "model.fit(x_train,y_train)\n",
        "y_pred = model.predict(x_test)\n",
        "print(\"Predictions: \",y_pred)\n",
        "print(\"Accuracy: \",accuracy_score(y_test,y_pred))\n"
      ],
      "metadata": {
        "id": "Bchz_C8ssBcx",
        "colab": {
          "base_uri": "https://localhost:8080/"
        },
        "outputId": "7c4d0c28-fe27-48cf-fd2e-e4f21b022b8e"
      },
      "execution_count": 3,
      "outputs": [
        {
          "output_type": "stream",
          "name": "stdout",
          "text": [
            "Predictions:  [0 1]\n",
            "Accuracy:  1.0\n"
          ]
        }
      ]
    }
  ]
}